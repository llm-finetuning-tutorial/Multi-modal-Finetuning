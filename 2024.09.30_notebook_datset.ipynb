{
 "cells": [
  {
   "cell_type": "code",
   "execution_count": 1,
   "metadata": {},
   "outputs": [
    {
     "name": "stderr",
     "output_type": "stream",
     "text": [
      "/opt/homebrew/anaconda3/envs/iitp/lib/python3.11/site-packages/tqdm/auto.py:21: TqdmWarning: IProgress not found. Please update jupyter and ipywidgets. See https://ipywidgets.readthedocs.io/en/stable/user_install.html\n",
      "  from .autonotebook import tqdm as notebook_tqdm\n"
     ]
    }
   ],
   "source": [
    "import datasets \n",
    "data = datasets.load_dataset(\"derek-thomas/ScienceQA\")"
   ]
  },
  {
   "cell_type": "code",
   "execution_count": 2,
   "metadata": {},
   "outputs": [
    {
     "data": {
      "text/plain": [
       "DatasetDict({\n",
       "    train: Dataset({\n",
       "        features: ['image', 'question', 'choices', 'answer', 'hint', 'task', 'grade', 'subject', 'topic', 'category', 'skill', 'lecture', 'solution'],\n",
       "        num_rows: 12726\n",
       "    })\n",
       "    validation: Dataset({\n",
       "        features: ['image', 'question', 'choices', 'answer', 'hint', 'task', 'grade', 'subject', 'topic', 'category', 'skill', 'lecture', 'solution'],\n",
       "        num_rows: 4241\n",
       "    })\n",
       "    test: Dataset({\n",
       "        features: ['image', 'question', 'choices', 'answer', 'hint', 'task', 'grade', 'subject', 'topic', 'category', 'skill', 'lecture', 'solution'],\n",
       "        num_rows: 4241\n",
       "    })\n",
       "})"
      ]
     },
     "execution_count": 2,
     "metadata": {},
     "output_type": "execute_result"
    }
   ],
   "source": [
    "data"
   ]
  },
  {
   "cell_type": "code",
   "execution_count": 3,
   "metadata": {},
   "outputs": [
    {
     "data": {
      "text/plain": [
       "{'image': <PIL.PngImagePlugin.PngImageFile image mode=RGB size=750x429>,\n",
       " 'question': 'Which of these states is farthest north?',\n",
       " 'choices': ['West Virginia', 'Louisiana', 'Arizona', 'Oklahoma'],\n",
       " 'answer': 0,\n",
       " 'hint': '',\n",
       " 'task': 'closed choice',\n",
       " 'grade': 'grade2',\n",
       " 'subject': 'social science',\n",
       " 'topic': 'geography',\n",
       " 'category': 'Geography',\n",
       " 'skill': 'Read a map: cardinal directions',\n",
       " 'lecture': 'Maps have four cardinal directions, or main directions. Those directions are north, south, east, and west.\\nA compass rose is a set of arrows that point to the cardinal directions. A compass rose usually shows only the first letter of each cardinal direction.\\nThe north arrow points to the North Pole. On most maps, north is at the top of the map.',\n",
       " 'solution': 'To find the answer, look at the compass rose. Look at which way the north arrow is pointing. West Virginia is farthest north.'}"
      ]
     },
     "execution_count": 3,
     "metadata": {},
     "output_type": "execute_result"
    }
   ],
   "source": [
    "data[\"train\"][0]"
   ]
  },
  {
   "cell_type": "code",
   "execution_count": 5,
   "metadata": {},
   "outputs": [
    {
     "name": "stderr",
     "output_type": "stream",
     "text": [
      "Map: 100%|██████████| 12726/12726 [03:15<00:00, 65.00 examples/s] \n",
      "Map: 100%|██████████| 4241/4241 [01:05<00:00, 64.96 examples/s] \n",
      "Map: 100%|██████████| 4241/4241 [01:03<00:00, 66.47 examples/s] "
     ]
    },
    {
     "name": "stdout",
     "output_type": "stream",
     "text": [
      "DatasetDict({\n",
      "    train: Dataset({\n",
      "        features: ['image', 'question', 'choices', 'answer', 'hint', 'task', 'grade', 'subject', 'topic', 'category', 'skill', 'lecture', 'solution', 'conversations'],\n",
      "        num_rows: 12726\n",
      "    })\n",
      "    validation: Dataset({\n",
      "        features: ['image', 'question', 'choices', 'answer', 'hint', 'task', 'grade', 'subject', 'topic', 'category', 'skill', 'lecture', 'solution', 'conversations'],\n",
      "        num_rows: 4241\n",
      "    })\n",
      "    test: Dataset({\n",
      "        features: ['image', 'question', 'choices', 'answer', 'hint', 'task', 'grade', 'subject', 'topic', 'category', 'skill', 'lecture', 'solution', 'conversations'],\n",
      "        num_rows: 4241\n",
      "    })\n",
      "})\n"
     ]
    },
    {
     "name": "stderr",
     "output_type": "stream",
     "text": [
      "\n"
     ]
    }
   ],
   "source": [
    "import datasets\n",
    "from PIL import Image\n",
    "\n",
    "# 주어진 데이터셋 로드\n",
    "dataset = data\n",
    "\n",
    "# conversation 포맷으로 변환하는 함수 정의\n",
    "def convert_to_conversation(example):\n",
    "    conversation = [\n",
    "        {\n",
    "            \"from\": \"user\",\n",
    "            \"value\": f\"Picture: <img>{example['image']}</img>\\n{example['question']}\"\n",
    "        },\n",
    "        {\n",
    "            \"from\": \"user\",\n",
    "            \"value\": f\"Choices: {example['choices']}\"\n",
    "        },\n",
    "        {\n",
    "            \"from\": \"assistant\",\n",
    "            \"value\": f\"Answer: {example['answer']}\"\n",
    "        },\n",
    "        {\n",
    "            \"from\": \"assistant\",\n",
    "            \"value\": f\"Solution: {example['solution']}\"\n",
    "        }\n",
    "    ]\n",
    "    return {\"conversations\": conversation}\n",
    "\n",
    "# 변환된 데이터셋을 위해 map 함수를 사용하여 각 split에 대해 처리\n",
    "converted_train = dataset['train'].map(convert_to_conversation)\n",
    "converted_validation = dataset['validation'].map(convert_to_conversation)\n",
    "converted_test = dataset['test'].map(convert_to_conversation)\n",
    "\n",
    "# 변환된 데이터셋을 새로운 DatasetDict로 묶기\n",
    "converted_dataset = datasets.DatasetDict({\n",
    "    \"train\": converted_train,\n",
    "    \"validation\": converted_validation,\n",
    "    \"test\": converted_test\n",
    "})\n",
    "\n",
    "# 변환된 데이터셋 출력 확인\n",
    "print(converted_dataset)\n",
    "\n",
    "# 원한다면 변환된 데이터셋을 디스크에 저장 가능\n",
    "# converted_dataset.save_to_disk('path_to_save_converted_dataset')\n"
   ]
  },
  {
   "cell_type": "code",
   "execution_count": 6,
   "metadata": {},
   "outputs": [
    {
     "data": {
      "text/plain": [
       "{'image': <PIL.PngImagePlugin.PngImageFile image mode=RGB size=750x429>,\n",
       " 'question': 'Which of these states is farthest north?',\n",
       " 'choices': ['West Virginia', 'Louisiana', 'Arizona', 'Oklahoma'],\n",
       " 'answer': 0,\n",
       " 'hint': '',\n",
       " 'task': 'closed choice',\n",
       " 'grade': 'grade2',\n",
       " 'subject': 'social science',\n",
       " 'topic': 'geography',\n",
       " 'category': 'Geography',\n",
       " 'skill': 'Read a map: cardinal directions',\n",
       " 'lecture': 'Maps have four cardinal directions, or main directions. Those directions are north, south, east, and west.\\nA compass rose is a set of arrows that point to the cardinal directions. A compass rose usually shows only the first letter of each cardinal direction.\\nThe north arrow points to the North Pole. On most maps, north is at the top of the map.',\n",
       " 'solution': 'To find the answer, look at the compass rose. Look at which way the north arrow is pointing. West Virginia is farthest north.',\n",
       " 'conversations': [{'from': 'user',\n",
       "   'value': 'Picture: <img><PIL.PngImagePlugin.PngImageFile image mode=RGB size=750x429 at 0x121F19A90></img>\\nWhich of these states is farthest north?'},\n",
       "  {'from': 'user',\n",
       "   'value': \"Choices: ['West Virginia', 'Louisiana', 'Arizona', 'Oklahoma']\"},\n",
       "  {'from': 'assistant', 'value': 'Answer: 0'},\n",
       "  {'from': 'assistant',\n",
       "   'value': 'Solution: To find the answer, look at the compass rose. Look at which way the north arrow is pointing. West Virginia is farthest north.'}]}"
      ]
     },
     "execution_count": 6,
     "metadata": {},
     "output_type": "execute_result"
    }
   ],
   "source": [
    "converted_dataset[\"train\"][0]"
   ]
  },
  {
   "cell_type": "code",
   "execution_count": null,
   "metadata": {},
   "outputs": [],
   "source": []
  }
 ],
 "metadata": {
  "kernelspec": {
   "display_name": "iitp",
   "language": "python",
   "name": "python3"
  },
  "language_info": {
   "codemirror_mode": {
    "name": "ipython",
    "version": 3
   },
   "file_extension": ".py",
   "mimetype": "text/x-python",
   "name": "python",
   "nbconvert_exporter": "python",
   "pygments_lexer": "ipython3",
   "version": "3.11.7"
  }
 },
 "nbformat": 4,
 "nbformat_minor": 2
}
